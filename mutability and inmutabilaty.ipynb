{
 "cells": [
  {
   "cell_type": "code",
   "execution_count": null,
   "id": "3271bf64-7aeb-4e56-a7d6-68c31ec474ab",
   "metadata": {},
   "outputs": [],
   "source": [
    "a # in the memory the memory block is created with reference name a and value 6"
   ]
  },
  {
   "cell_type": "code",
   "execution_count": 8,
   "id": "cf05e651-a8df-439c-b5bc-db269e4c709e",
   "metadata": {},
   "outputs": [],
   "source": [
    "b = \"ajay\"\n"
   ]
  },
  {
   "cell_type": "code",
   "execution_count": 7,
   "id": "55705dd8-9b44-4186-b80e-e9916788bdd3",
   "metadata": {},
   "outputs": [
    {
     "name": "stdin",
     "output_type": "stream",
     "text": [
      "please enter your name z\n"
     ]
    },
    {
     "data": {
      "text/plain": [
       "'z'"
      ]
     },
     "execution_count": 7,
     "metadata": {},
     "output_type": "execute_result"
    }
   ],
   "source": [
    "input(\"please enter your name\")"
   ]
  },
  {
   "cell_type": "code",
   "execution_count": 9,
   "id": "5c4b0013-1b1c-483f-a6eb-443e47498eac",
   "metadata": {},
   "outputs": [
    {
     "data": {
      "text/plain": [
       "'ajay'"
      ]
     },
     "execution_count": 9,
     "metadata": {},
     "output_type": "execute_result"
    }
   ],
   "source": [
    "b"
   ]
  },
  {
   "cell_type": "code",
   "execution_count": 11,
   "id": "ab51c876-f26f-49bf-9b7a-e157e190dd8e",
   "metadata": {},
   "outputs": [
    {
     "data": {
      "text/plain": [
       "'a'"
      ]
     },
     "execution_count": 11,
     "metadata": {},
     "output_type": "execute_result"
    }
   ],
   "source": [
    "b[0]\n",
    "\n"
   ]
  },
  {
   "cell_type": "code",
   "execution_count": 12,
   "id": "ddd28d56-eaf9-4193-83bd-ac2c542e8a13",
   "metadata": {},
   "outputs": [
    {
     "data": {
      "text/plain": [
       "[1, 2, 3, (3+5j), True, 4.4, 'ajay']"
      ]
     },
     "execution_count": 12,
     "metadata": {},
     "output_type": "execute_result"
    }
   ],
   "source": [
    "# another type of data container is list\n",
    "list_cont = [1,2,3,3+5j,True,4.4,\"ajay\"]\n",
    "list_cont"
   ]
  },
  {
   "cell_type": "code",
   "execution_count": 14,
   "id": "d927d3a3-ad4e-4c42-aab7-612ecb3b0bd3",
   "metadata": {},
   "outputs": [],
   "source": [
    "# mutability\n",
    "list_cont[-1] = \"sourabh\""
   ]
  },
  {
   "cell_type": "code",
   "execution_count": 15,
   "id": "4961e2e5-37d2-4c12-9462-90efca187bda",
   "metadata": {},
   "outputs": [
    {
     "data": {
      "text/plain": [
       "'sourabh'"
      ]
     },
     "execution_count": 15,
     "metadata": {},
     "output_type": "execute_result"
    }
   ],
   "source": [
    "list_cont[-1]"
   ]
  },
  {
   "cell_type": "code",
   "execution_count": null,
   "id": "ea43ab7a-2e76-4286-8830-c601ecb76bf0",
   "metadata": {},
   "outputs": [],
   "source": []
  }
 ],
 "metadata": {
  "kernelspec": {
   "display_name": "Python 3 (ipykernel)",
   "language": "python",
   "name": "python3"
  },
  "language_info": {
   "codemirror_mode": {
    "name": "ipython",
    "version": 3
   },
   "file_extension": ".py",
   "mimetype": "text/x-python",
   "name": "python",
   "nbconvert_exporter": "python",
   "pygments_lexer": "ipython3",
   "version": "3.10.8"
  }
 },
 "nbformat": 4,
 "nbformat_minor": 5
}
